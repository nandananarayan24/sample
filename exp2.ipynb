{
 "cells": [
  {
   "cell_type": "code",
   "execution_count": 1,
   "metadata": {},
   "outputs": [],
   "source": [
    "import pymongo"
   ]
  },
  {
   "cell_type": "code",
   "execution_count": 2,
   "metadata": {},
   "outputs": [],
   "source": [
    "conn=pymongo.MongoClient(\"mongodb://localhost:27017/\")\n",
    "db=conn[\"mydatabase\"]\n",
    "col=db[\"Exp22\"]"
   ]
  },
  {
   "cell_type": "code",
   "execution_count": 9,
   "metadata": {},
   "outputs": [
    {
     "data": {
      "text/plain": [
       "InsertManyResult([ObjectId('67e22c9a2a1e788e8edc91c7'), ObjectId('67e22c9a2a1e788e8edc91c8'), ObjectId('67e22c9a2a1e788e8edc91c9')], acknowledged=True)"
      ]
     },
     "execution_count": 9,
     "metadata": {},
     "output_type": "execute_result"
    }
   ],
   "source": [
    "value=[{\"Name\":\"nandana\",\"Age\":18,\"Place\":\"kANNUR\"},\n",
    "       {\"Name\":\"William\",\"Age\":10,\"Place\":\"Ernakulam\"},\n",
    "       {\"Name\":\"Shibin\",\"Age\":18,\"Place\":\"Thrissur\"}]\n",
    "col.insert_many(value)"
   ]
  },
  {
   "cell_type": "code",
   "execution_count": null,
   "metadata": {},
   "outputs": [
    {
     "name": "stdout",
     "output_type": "stream",
     "text": [
      "{'_id': ObjectId('67e22c9a2a1e788e8edc91c7'), 'Name': 'nandana', 'Age': 18, 'Place': 'kANNUR'}\n",
      "{'_id': ObjectId('67e22c9a2a1e788e8edc91c9'), 'Name': 'Shibin', 'Age': 18, 'Place': 'Thrissur'}\n"
     ]
    }
   ],
   "source": [
    "a=col.find({\"Age\":18,\"place\":\"Thrissur\"})\n",
    "for i in a:\n",
    "    print(i)"
   ]
  },
  {
   "cell_type": "code",
   "execution_count": 16,
   "metadata": {},
   "outputs": [
    {
     "name": "stdout",
     "output_type": "stream",
     "text": [
      "{'_id': ObjectId('67e22c9a2a1e788e8edc91c7'), 'Name': 'nandana', 'Age': 18, 'Place': 'kANNUR'}\n",
      "{'_id': ObjectId('67e22c9a2a1e788e8edc91c9'), 'Name': 'Shibin', 'Age': 18, 'Place': 'Thrissur'}\n"
     ]
    }
   ],
   "source": [
    "a=col.find({\"$or\":[{\"Age\":18},\n",
    "                   {\"Place\":\"Thrissur\"}]})\n",
    "for i in a:\n",
    "    print(i)"
   ]
  },
  {
   "cell_type": "code",
   "execution_count": 21,
   "metadata": {},
   "outputs": [
    {
     "data": {
      "text/plain": [
       "UpdateResult({'n': 1, 'nModified': 1, 'ok': 1.0, 'updatedExisting': True}, acknowledged=True)"
      ]
     },
     "execution_count": 21,
     "metadata": {},
     "output_type": "execute_result"
    }
   ],
   "source": [
    "cond={\"Age\":18}\n",
    "newvalue={\"$set\":{\"Place\":\"Trivandrum\"}}\n",
    "col.update_one(cond,newvalue)"
   ]
  },
  {
   "cell_type": "code",
   "execution_count": 23,
   "metadata": {},
   "outputs": [
    {
     "data": {
      "text/plain": [
       "DeleteResult({'n': 1, 'ok': 1.0}, acknowledged=True)"
      ]
     },
     "execution_count": 23,
     "metadata": {},
     "output_type": "execute_result"
    }
   ],
   "source": [
    "col.delete_many({\"Age\":10})"
   ]
  },
  {
   "cell_type": "code",
   "execution_count": 29,
   "metadata": {},
   "outputs": [
    {
     "name": "stdout",
     "output_type": "stream",
     "text": [
      "{'Name': 'nandana'}\n",
      "{'Name': 'Shibin'}\n"
     ]
    }
   ],
   "source": [
    "var=col.find({\"Age\":{\"$gte\":17}},{\"_id\":0,\"Name\":1})\n",
    "for i in var:\n",
    "    print(i)"
   ]
  },
  {
   "cell_type": "code",
   "execution_count": 33,
   "metadata": {},
   "outputs": [
    {
     "name": "stdout",
     "output_type": "stream",
     "text": [
      "{'Name': 'nandana', 'Age': 18, 'Place': 'Trivandrum'}\n"
     ]
    }
   ],
   "source": [
    "var=col.find({\"Name\":{\"$regex\":\"a$\"}},{\"_id\":0})\n",
    "for i in var:\n",
    "    print(i)"
   ]
  },
  {
   "cell_type": "code",
   "execution_count": 34,
   "metadata": {},
   "outputs": [
    {
     "data": {
      "text/plain": [
       "InsertOneResult(ObjectId('67e238a12a1e788e8edc91ca'), acknowledged=True)"
      ]
     },
     "execution_count": 34,
     "metadata": {},
     "output_type": "execute_result"
    }
   ],
   "source": [
    "value={\"Name\":\"William\",\"Age\":10,\"Place\":\"Eranakulam\"}\n",
    "col.insert_one(value)"
   ]
  },
  {
   "cell_type": "code",
   "execution_count": 35,
   "metadata": {},
   "outputs": [
    {
     "data": {
      "text/plain": [
       "UpdateResult({'n': 1, 'nModified': 1, 'ok': 1.0, 'updatedExisting': True}, acknowledged=True)"
      ]
     },
     "execution_count": 35,
     "metadata": {},
     "output_type": "execute_result"
    }
   ],
   "source": [
    "cond={\"Name\":\"Shibin\"}\n",
    "newvalue={\"$set\":{\"Place\":\"Trivandrum\"}}\n",
    "col.update_one(cond,newvalue)"
   ]
  },
  {
   "cell_type": "code",
   "execution_count": null,
   "metadata": {},
   "outputs": [],
   "source": []
  }
 ],
 "metadata": {
  "kernelspec": {
   "display_name": "Python 3",
   "language": "python",
   "name": "python3"
  },
  "language_info": {
   "codemirror_mode": {
    "name": "ipython",
    "version": 3
   },
   "file_extension": ".py",
   "mimetype": "text/x-python",
   "name": "python",
   "nbconvert_exporter": "python",
   "pygments_lexer": "ipython3",
   "version": "3.11.9"
  }
 },
 "nbformat": 4,
 "nbformat_minor": 2
}
