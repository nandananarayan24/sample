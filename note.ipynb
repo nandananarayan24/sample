{
 "cells": [
  {
   "cell_type": "code",
   "execution_count": 3,
   "metadata": {},
   "outputs": [],
   "source": [
    "import pymongo\n",
    "conn=pymongo.MongoClient(\"mongodb://localhost:27017/\")\n",
    "db=conn[\"mydatabase\"]\n",
    "col=db[\"student\"]\n"
   ]
  },
  {
   "cell_type": "code",
   "execution_count": 8,
   "metadata": {},
   "outputs": [
    {
     "data": {
      "text/plain": [
       "InsertManyResult([1, ObjectId('67d9359c11278ffb20b41e5b'), ObjectId('67d9359c11278ffb20b41e5c')], acknowledged=True)"
      ]
     },
     "execution_count": 8,
     "metadata": {},
     "output_type": "execute_result"
    }
   ],
   "source": [
    "value=[{\"Name\":\"def\",\"Age\":\"18\",\"Ph\":\"1234567891\",\"_id\":1},\n",
    "       {\"Name\":\"ghi\",\"Ph\":\"1234567892\"},\n",
    "       {\"Name\":\"jkl\",\"Age\":\"18\"}]\n",
    "col.insert_many(value)"
   ]
  },
  {
   "cell_type": "code",
   "execution_count": 11,
   "metadata": {},
   "outputs": [
    {
     "name": "stdout",
     "output_type": "stream",
     "text": [
      "{'_id': 1, 'Name': 'def'}\n",
      "{'_id': ObjectId('67d9359c11278ffb20b41e5b'), 'Name': 'ghi'}\n",
      "{'_id': ObjectId('67d9359c11278ffb20b41e5c'), 'Name': 'jkl'}\n"
     ]
    }
   ],
   "source": [
    "a=col.find({},{\"Name\":1,\"_id\":1}).limit(3)\n",
    "for i in a:\n",
    "    print(i)"
   ]
  },
  {
   "cell_type": "code",
   "execution_count": 12,
   "metadata": {},
   "outputs": [
    {
     "name": "stdout",
     "output_type": "stream",
     "text": [
      "{'_id': ObjectId('67d9359c11278ffb20b41e5c'), 'Name': 'jkl'}\n",
      "{'_id': ObjectId('67d9359c11278ffb20b41e5b'), 'Name': 'ghi'}\n",
      "{'_id': 1, 'Name': 'def'}\n"
     ]
    }
   ],
   "source": [
    "a=col.find({},{\"Name\":1,\"_id\":1}).sort({\"Name\":-1})\n",
    "for i in a:\n",
    "    print(i)"
   ]
  },
  {
   "cell_type": "code",
   "execution_count": null,
   "metadata": {},
   "outputs": [],
   "source": []
  }
 ],
 "metadata": {
  "kernelspec": {
   "display_name": "Python 3",
   "language": "python",
   "name": "python3"
  },
  "language_info": {
   "codemirror_mode": {
    "name": "ipython",
    "version": 3
   },
   "file_extension": ".py",
   "mimetype": "text/x-python",
   "name": "python",
   "nbconvert_exporter": "python",
   "pygments_lexer": "ipython3",
   "version": "3.11.9"
  }
 },
 "nbformat": 4,
 "nbformat_minor": 2
}
