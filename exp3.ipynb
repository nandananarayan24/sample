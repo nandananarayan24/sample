{
 "cells": [
  {
   "cell_type": "code",
   "execution_count": 3,
   "metadata": {},
   "outputs": [],
   "source": [
    "import pymongo"
   ]
  },
  {
   "cell_type": "code",
   "execution_count": 4,
   "metadata": {},
   "outputs": [],
   "source": [
    "conn=pymongo.MongoClient(\"mongodb://localhost:27017/\")\n",
    "db=conn[\"Exp3\"]\n",
    "col=db[\"Details\"]\n"
   ]
  },
  {
   "cell_type": "code",
   "execution_count": 6,
   "metadata": {},
   "outputs": [
    {
     "data": {
      "text/plain": [
       "InsertManyResult([ObjectId('67e2751937588d99c5d3345a'), ObjectId('67e2751937588d99c5d3345b'), ObjectId('67e2751937588d99c5d3345c'), ObjectId('67e2751937588d99c5d3345d'), ObjectId('67e2751937588d99c5d3345e'), ObjectId('67e2751937588d99c5d3345f')], acknowledged=True)"
      ]
     },
     "execution_count": 6,
     "metadata": {},
     "output_type": "execute_result"
    }
   ],
   "source": [
    "value = [\n",
    "        {\"first_name\":\"Nandana\",\"last_name\":\"Narayan\",\"place\":\"Kannur\",\"gender\":\"Female\",\"dept\":\"MCA\",\"mark\":67,\"grade\":\"C\"},\n",
    "        {\"first_name\":\"John William\",\"last_name\":\"Santhosh\",\"place\":\"Ernakulam\",\"gender\":\"Male\",\"dept\":\"MCA\",\"mark\":99,\"grade\":\"S\"},\n",
    "        {\"first_name\":\"Shibin\",\"last_name\":\"Manoj\",\"place\":\"Kannur\",\"gender\":\"Male\",\"dept\":\"Mech\",\"mark\":98,\"grade\":\"S\"},\n",
    "        {\"first_name\":\"Hanna\",\"last_name\":\"Roy\",\"place\":\"Idukki\",\"gender\":\"Female\",\"dept\":\"Civil\",\"mark\":55,\"grade\":\"D\"},\n",
    "        {\"first_name\":\"Chaithanya\",\"last_name\":\"Subran\",\"place\":\"Thrissur\",\"gender\":\"Female\",\"dept\":\"MCA\",\"mark\":89,\"grade\":\"A\"},\n",
    "        {\"first_name\":\"Bharadwaj\",\"last_name\":\"Theruvath\",\"place\":\"Malapuram\",\"gender\":\"Male\",\"dept\":\"Mech\",\"mark\":72,\"grade\":\"B\"}\n",
    "        ]\n",
    "col.insert_many(value)"
   ]
  },
  {
   "cell_type": "code",
   "execution_count": 7,
   "metadata": {},
   "outputs": [
    {
     "name": "stdout",
     "output_type": "stream",
     "text": [
      "{'first_name': 'Nandana', 'last_name': 'Narayan', 'mark': 67}\n",
      "{'first_name': 'Hanna', 'last_name': 'Roy', 'mark': 55}\n",
      "{'first_name': 'Chaithanya', 'last_name': 'Subran', 'mark': 89}\n",
      "{'first_name': 'Nandana', 'last_name': 'Narayan', 'mark': 67}\n",
      "{'first_name': 'Hanna', 'last_name': 'Roy', 'mark': 55}\n",
      "{'first_name': 'Chaithanya', 'last_name': 'Subran', 'mark': 89}\n",
      "{'first_name': 'Nandana', 'last_name': 'Narayan', 'mark': 67}\n",
      "{'first_name': 'Hanna', 'last_name': 'Roy', 'mark': 55}\n",
      "{'first_name': 'Chaithanya', 'last_name': 'Subran', 'mark': 89}\n"
     ]
    }
   ],
   "source": [
    "a=col.find({\"gender\":\"Female\"},{\"_id\":0,\"first_name\":1,\"last_name\":1,\"mark\":1})\n",
    "for i in a:\n",
    "    print(i)"
   ]
  },
  {
   "cell_type": "code",
   "execution_count": 8,
   "metadata": {},
   "outputs": [
    {
     "name": "stdout",
     "output_type": "stream",
     "text": [
      "{'first_name': 'John William', 'last_name': 'Santhosh', 'place': 'Ernakulam', 'gender': 'Male', 'dept': 'MCA', 'mark': 99, 'grade': 'S'}\n"
     ]
    }
   ],
   "source": [
    "for a in col.find({\"dept\":\"MCA\"},{\"_id\":0}).sort({\"mark\":-1}).limit(1):\n",
    "    print(a)"
   ]
  },
  {
   "cell_type": "code",
   "execution_count": 16,
   "metadata": {},
   "outputs": [
    {
     "name": "stdout",
     "output_type": "stream",
     "text": [
      "{'first_name': 'John William', 'last_name': 'Santhosh'}\n",
      "{'first_name': 'Shibin', 'last_name': 'Manoj'}\n"
     ]
    }
   ],
   "source": [
    "a=col.find({\"gender\":\"Male\",\"grade\":\"S\"},{\"_id\":0,\"first_name\":1,\"last_name\":1})\n",
    "for i in a:\n",
    "    print(i)"
   ]
  },
  {
   "cell_type": "code",
   "execution_count": 17,
   "metadata": {},
   "outputs": [
    {
     "name": "stdout",
     "output_type": "stream",
     "text": [
      "{'first_name': 'Shibin', 'last_name': 'Manoj'}\n",
      "{'first_name': 'Bharadwaj', 'last_name': 'Theruvath'}\n"
     ]
    }
   ],
   "source": [
    "a=col.find({\"dept\":\"Mech\"},{\"_id\":0,\"first_name\":1,\"last_name\":1}).sort({\"mark\":-1}).limit(5)\n",
    "for i in a:\n",
    "    print(i)"
   ]
  },
  {
   "cell_type": "code",
   "execution_count": 18,
   "metadata": {},
   "outputs": [
    {
     "name": "stdout",
     "output_type": "stream",
     "text": [
      "{'first_name': 'John William', 'last_name': 'Santhosh'}\n",
      "{'first_name': 'Shibin', 'last_name': 'Manoj'}\n"
     ]
    }
   ],
   "source": [
    "a=col.find({\"gender\":\"Male\",\"mark\":{\"$gt\":90}},{\"_id\":0,\"first_name\":1,\"last_name\":1})\n",
    "for i in a:\n",
    "    print(i)"
   ]
  },
  {
   "cell_type": "code",
   "execution_count": 20,
   "metadata": {},
   "outputs": [
    {
     "name": "stdout",
     "output_type": "stream",
     "text": [
      "{'first_name': 'Chaithanya', 'last_name': 'Subran'}\n"
     ]
    }
   ],
   "source": [
    "a=col.find({\"mark\":{\"$gt\":80,\"$lt\":90}},{\"_id\":0,\"first_name\":1,\"last_name\":1})\n",
    "for i in a:\n",
    "    print(i)"
   ]
  },
  {
   "cell_type": "code",
   "execution_count": 22,
   "metadata": {},
   "outputs": [
    {
     "name": "stdout",
     "output_type": "stream",
     "text": [
      "{'first_name': 'Nandana', 'last_name': 'Narayan'}\n"
     ]
    }
   ],
   "source": [
    "a=col.find({\"first_name\":{\"$regex\":\"^N\"}},{\"_id\":0,\"first_name\":1,\"last_name\":1})\n",
    "for i in a:\n",
    "    print(i)"
   ]
  },
  {
   "cell_type": "code",
   "execution_count": 24,
   "metadata": {},
   "outputs": [
    {
     "name": "stdout",
     "output_type": "stream",
     "text": [
      "{'first_name': 'Nandana', 'last_name': 'Narayan'}\n",
      "{'first_name': 'Shibin', 'last_name': 'Manoj'}\n"
     ]
    }
   ],
   "source": [
    "a=col.find({\"place\":\"Kannur\"},{\"_id\":0,\"first_name\":1,\"last_name\":1})\n",
    "for i in a:\n",
    "    print(i)"
   ]
  },
  {
   "cell_type": "code",
   "execution_count": 26,
   "metadata": {},
   "outputs": [
    {
     "name": "stdout",
     "output_type": "stream",
     "text": [
      "{'first_name': 'Hanna', 'last_name': 'Roy'}\n",
      "{'first_name': 'Chaithanya', 'last_name': 'Subran'}\n",
      "{'first_name': 'Bharadwaj', 'last_name': 'Theruvath'}\n"
     ]
    }
   ],
   "source": [
    "a=col.find({\"place\":{\"$nin\":[\"Kannur\",\"Ernakulam\"]}},{\"_id\":0,\"first_name\":1,\"last_name\":1})\n",
    "for i in a:\n",
    "    print(i)"
   ]
  }
 ],
 "metadata": {
  "kernelspec": {
   "display_name": "Python 3",
   "language": "python",
   "name": "python3"
  },
  "language_info": {
   "codemirror_mode": {
    "name": "ipython",
    "version": 3
   },
   "file_extension": ".py",
   "mimetype": "text/x-python",
   "name": "python",
   "nbconvert_exporter": "python",
   "pygments_lexer": "ipython3",
   "version": "3.11.9"
  }
 },
 "nbformat": 4,
 "nbformat_minor": 2
}
