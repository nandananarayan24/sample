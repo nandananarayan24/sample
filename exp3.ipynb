{
 "cells": [
  {
   "cell_type": "code",
   "execution_count": 1,
   "metadata": {},
   "outputs": [],
   "source": [
    "import pymongo"
   ]
  },
  {
   "cell_type": "code",
   "execution_count": 2,
   "metadata": {},
   "outputs": [],
   "source": [
    "conn=pymongo.MongoClient(\"mongodb://localhost:27017/\")\n",
    "db=conn[\"Exp3\"]\n",
    "col=db[\"Details\"]\n"
   ]
  },
  {
   "cell_type": "code",
   "execution_count": 5,
   "metadata": {},
   "outputs": [
    {
     "data": {
      "text/plain": [
       "InsertManyResult([ObjectId('67e2483c9293e115f60c8060'), ObjectId('67e2483c9293e115f60c8061'), ObjectId('67e2483c9293e115f60c8062'), ObjectId('67e2483c9293e115f60c8063'), ObjectId('67e2483c9293e115f60c8064'), ObjectId('67e2483c9293e115f60c8065')], acknowledged=True)"
      ]
     },
     "execution_count": 5,
     "metadata": {},
     "output_type": "execute_result"
    }
   ],
   "source": [
    "value = [\n",
    "        {\"first_name\":\"Nandana\",\"last_name\":\"Narayan\",\"place\":\"Kannur\",\"gender\":\"Female\",\"dept\":\"MCA\",\"mark\":67,\"grade\":\"C\"},\n",
    "        {\"first_name\":\"John William\",\"last_name\":\"Santhosh\",\"place\":\"Ernakulam\",\"gender\":\"Male\",\"dept\":\"MCA\",\"mark\":99,\"grade\":\"S\"},\n",
    "        {\"first_name\":\"Shibin\",\"last_name\":\"Manoj\",\"place\":\"Kannur\",\"gender\":\"Male\",\"dept\":\"Mech\",\"mark\":98,\"grade\":\"S\"},\n",
    "        {\"first_name\":\"Hanna\",\"last_name\":\"Roy\",\"place\":\"Idukki\",\"gender\":\"Female\",\"dept\":\"Civil\",\"mark\":55,\"grade\":\"D\"},\n",
    "        {\"first_name\":\"Chaithanya\",\"last_name\":\"Subran\",\"place\":\"Thrissur\",\"gender\":\"Female\",\"dept\":\"MCA\",\"mark\":89,\"grade\":\"A\"},\n",
    "        {\"first_name\":\"Bharadwaj\",\"last_name\":\"Theruvath\",\"place\":\"Malapuram\",\"gender\":\"Male\",\"dept\":\"Mech\",\"mark\":72,\"grade\":\"B\"}\n",
    "        ]\n",
    "col.insert_many(value)"
   ]
  },
  {
   "cell_type": "code",
   "execution_count": 9,
   "metadata": {},
   "outputs": [
    {
     "name": "stdout",
     "output_type": "stream",
     "text": [
      "{'first_name': 'Nandana', 'last_name': 'Narayan', 'mark': 67}\n",
      "{'first_name': 'Hanna', 'last_name': 'Roy', 'mark': 55}\n",
      "{'first_name': 'Chaithanya', 'last_name': 'Subran', 'mark': 89}\n"
     ]
    }
   ],
   "source": [
    "a=col.find({\"gender\":\"Female\"},{\"_id\":0,\"first_name\":1,\"last_name\":1,\"mark\":1})\n",
    "for i in a:\n",
    "    print(i)"
   ]
  },
  {
   "cell_type": "code",
   "execution_count": 12,
   "metadata": {},
   "outputs": [
    {
     "name": "stdout",
     "output_type": "stream",
     "text": [
      "{'first_name': 'John William', 'last_name': 'Santhosh', 'place': 'Ernakulam', 'gender': 'Male', 'dept': 'MCA', 'mark': 99, 'grade': 'S'}\n"
     ]
    }
   ],
   "source": [
    "for a in col.find({\"dept\":\"MCA\"},{\"_id\":0}).sort({\"mark\":-1}).limit(1):\n",
    "    print(a)"
   ]
  },
  {
   "cell_type": "code",
   "execution_count": 13,
   "metadata": {},
   "outputs": [
    {
     "name": "stdout",
     "output_type": "stream",
     "text": [
      "{'first_name': 'John William', 'last_name': 'Santhosh', 'place': 'Ernakulam', 'gender': 'Male', 'dept': 'MCA', 'mark': 99, 'grade': 'S'}\n",
      "{'first_name': 'Shibin', 'last_name': 'Manoj', 'place': 'Kannur', 'gender': 'Male', 'dept': 'Mech', 'mark': 98, 'grade': 'S'}\n"
     ]
    }
   ],
   "source": [
    "a=col.find({\"gender\":\"Male\",\"grade\":\"S\"},{\"_id\":0})\n",
    "for i in a:\n",
    "    print(i)"
   ]
  },
  {
   "cell_type": "code",
   "execution_count": 15,
   "metadata": {},
   "outputs": [
    {
     "name": "stdout",
     "output_type": "stream",
     "text": [
      "{'first_name': 'Shibin', 'last_name': 'Manoj', 'place': 'Kannur', 'gender': 'Male', 'dept': 'Mech', 'mark': 98, 'grade': 'S'}\n"
     ]
    }
   ],
   "source": [
    "a=col.find({\"dept\":\"Mech\"},{\"_id\":0}).sort({\"mark\":-1}).limit(1)\n",
    "for i in a:\n",
    "    print(i)"
   ]
  },
  {
   "cell_type": "code",
   "execution_count": null,
   "metadata": {},
   "outputs": [],
   "source": []
  }
 ],
 "metadata": {
  "kernelspec": {
   "display_name": "Python 3",
   "language": "python",
   "name": "python3"
  },
  "language_info": {
   "codemirror_mode": {
    "name": "ipython",
    "version": 3
   },
   "file_extension": ".py",
   "mimetype": "text/x-python",
   "name": "python",
   "nbconvert_exporter": "python",
   "pygments_lexer": "ipython3",
   "version": "3.11.9"
  }
 },
 "nbformat": 4,
 "nbformat_minor": 2
}
